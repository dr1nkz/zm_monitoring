{
 "cells": [
  {
   "cell_type": "code",
   "execution_count": 3,
   "metadata": {},
   "outputs": [],
   "source": [
    "import cv2\n",
    "import time\n",
    "import numpy as np\n",
    "from detector import YOLOv8\n",
    "from utils import compute_iou, compute_intersection, compute_polygon_intersection\n",
    "import matplotlib.pyplot as plt\n",
    "import os\n",
    "import time"
   ]
  },
  {
   "cell_type": "code",
   "execution_count": 12,
   "metadata": {},
   "outputs": [],
   "source": [
    "start_time = time.time()\n",
    "filename = './temp.txt'\n",
    "\n",
    "duration = 5\n",
    "time.sleep(4)\n",
    "\n",
    "if (time.time() - start_time < duration):\n",
    "    if os.path.isfile(filename):\n",
    "        os.remove(filename)"
   ]
  },
  {
   "cell_type": "code",
   "execution_count": 75,
   "metadata": {},
   "outputs": [
    {
     "name": "stdout",
     "output_type": "stream",
     "text": [
      "[0.6189952153110048, 0.0]\n"
     ]
    }
   ],
   "source": [
    "from shapely.geometry import Polygon\n",
    "\n",
    "def test(box, boxes):\n",
    "    # Создайте объекты Polygon для четырёхугольника и прямоугольника\n",
    "    x1 = box[0]\n",
    "    y1 = box[1]\n",
    "    x2 = box[2]\n",
    "    y2 = box[3]\n",
    "\n",
    "    poly1 = Polygon([(x1, y1), (x2, y1), (x2, y2), (x1, y2)]) # Четырёхугольник\n",
    "    \n",
    "    intersections = []\n",
    "    for temp_box in boxes:\n",
    "        poly2 = Polygon(temp_box) # полигон\n",
    "\n",
    "        # Найдите пересечение двух полигонов\n",
    "        intersection = poly1.intersection(poly2)\n",
    "\n",
    "        # Найдите площадь пересечения\n",
    "        intersections.append(intersection.area / poly1.area)\n",
    "\n",
    "    return intersections\n",
    "\n",
    "\n",
    "print(test([50, 50, 150, 150], parking_areas))"
   ]
  },
  {
   "cell_type": "code",
   "execution_count": 31,
   "metadata": {},
   "outputs": [
    {
     "data": {
      "text/plain": [
       "[[[223, 1], [333, 148], [156, 334], [34, 322], [14, 149]],\n",
       " [[512, 30], [617, 13], [698, 86], [622, 183]]]"
      ]
     },
     "execution_count": 31,
     "metadata": {},
     "output_type": "execute_result"
    }
   ],
   "source": [
    "zones = [('223,1 333,148 156,334 34,322 14,149',), ('512,30 617,13 698,86 622,183',)]\n",
    "parking_areas = []\n",
    "for zone in zones:\n",
    "    bbox = [list(map(int, elem.split(','))) for elem in zone[0].split(' ')]\n",
    "    # print(bbox)\n",
    "    parking_areas.append(bbox)\n",
    "\n",
    "# parking_areas = np.array(parking_areas).astype('int')\n",
    "parking_areas"
   ]
  },
  {
   "cell_type": "code",
   "execution_count": 76,
   "metadata": {},
   "outputs": [
    {
     "ename": "TypeError",
     "evalue": "list.append() takes no keyword arguments",
     "output_type": "error",
     "traceback": [
      "\u001b[0;31m---------------------------------------------------------------------------\u001b[0m",
      "\u001b[0;31mTypeError\u001b[0m                                 Traceback (most recent call last)",
      "Cell \u001b[0;32mIn[76], line 3\u001b[0m\n\u001b[1;32m      1\u001b[0m a \u001b[38;5;241m=\u001b[39m [\u001b[38;5;124m'\u001b[39m\u001b[38;5;124m223\u001b[39m\u001b[38;5;124m'\u001b[39m, \u001b[38;5;124m'\u001b[39m\u001b[38;5;124m1\u001b[39m\u001b[38;5;124m'\u001b[39m]\n\u001b[1;32m      2\u001b[0m b \u001b[38;5;241m=\u001b[39m [\u001b[38;5;124m'\u001b[39m\u001b[38;5;124m136\u001b[39m\u001b[38;5;124m'\u001b[39m, \u001b[38;5;124m'\u001b[39m\u001b[38;5;124m334\u001b[39m\u001b[38;5;124m'\u001b[39m]\n\u001b[0;32m----> 3\u001b[0m \u001b[43ma\u001b[49m\u001b[38;5;241;43m.\u001b[39;49m\u001b[43mappend\u001b[49m\u001b[43m(\u001b[49m\u001b[43mb\u001b[49m\u001b[43m,\u001b[49m\u001b[43m \u001b[49m\u001b[43maxis\u001b[49m\u001b[43m \u001b[49m\u001b[38;5;241;43m=\u001b[39;49m\u001b[43m \u001b[49m\u001b[38;5;241;43m0\u001b[39;49m\u001b[43m)\u001b[49m\n\u001b[1;32m      4\u001b[0m a\n",
      "\u001b[0;31mTypeError\u001b[0m: list.append() takes no keyword arguments"
     ]
    }
   ],
   "source": [
    "a = ['223', '1']\n",
    "b = ['136', '334']\n",
    "a.append(b)\n",
    "a"
   ]
  },
  {
   "cell_type": "code",
   "execution_count": null,
   "metadata": {},
   "outputs": [],
   "source": [
    "gen(r'http://192.168.0.39:8080/video')"
   ]
  },
  {
   "cell_type": "code",
   "execution_count": 8,
   "metadata": {},
   "outputs": [],
   "source": [
    "def gen(address):\n",
    "    \"\"\"\n",
    "    Запуск модели\n",
    "    \"\"\"\n",
    "    # Засекаем начало работы скрипта\n",
    "    start_time = time.time()\n",
    "    # Длительность нахождения\n",
    "    duration = 30\n",
    "\n",
    "    # Захват видео с камеры\n",
    "    # cap = cv2.VideoCapture('./image.jpg')\n",
    "    \n",
    "    model_path = r'./yolov8n.onnx'\n",
    "    yolov8_detector = YOLOv8(path=model_path,\n",
    "                             conf_thres=0.3,\n",
    "                             iou_thres=0.5)\n",
    "\n",
    "    cv2.namedWindow('stream', cv2.WINDOW_NORMAL)\n",
    "    cap = cv2.VideoCapture(address)\n",
    "    fourcc = cv2.VideoWriter_fourcc(*'mp4v')\n",
    "    out = cv2.VideoWriter('output.mp4', fourcc, 20.0, (720,480))\n",
    "    \n",
    "    # Координаты территории\n",
    "    txt = './parking_areas.txt'\n",
    "    lines = None\n",
    "    with open(txt) as f:\n",
    "        lines = f.readlines()\n",
    "    bboxes = []\n",
    "    for line in lines:\n",
    "        line = line.replace('\\n', '').split(', ')\n",
    "        bbox = [int(l) for l in line]\n",
    "        bboxes.append(bbox)\n",
    "    parking_areas = np.array(bboxes)\n",
    "\n",
    "    # Сколько кадров подряд с пустым местом мы уже видели\n",
    "    free_frames = 0\n",
    "    \n",
    "    while (time.time() - start_time < duration) and cap.isOpened():\n",
    "        # Кадр с камеры\n",
    "        ret, frame = cap.read()\n",
    "        if not ret:\n",
    "            break\n",
    "\n",
    "        # Детектирование\n",
    "        yolov8_detector(frame)\n",
    "        # detected_img = frame\n",
    "        detected_img = yolov8_detector.draw_detections(frame)\n",
    "        bounding_boxes = np.array(yolov8_detector.get_boxes())\n",
    "        if detected_img is None:\n",
    "            continue\n",
    "        \n",
    "        # чтобы не ломалось iou\n",
    "        if len(bounding_boxes) == 1 or bounding_boxes.shape[0] == 1:\n",
    "            # bounding_boxes = np.array([bounding_boxes])\n",
    "            bounding_boxes = np.array(bounding_boxes).reshape(1, -1)\n",
    "\n",
    "        free_frames_temp = 0\n",
    "        if bounding_boxes.shape[0] != 0:\n",
    "            for bounding_box in bounding_boxes:\n",
    "                intersections = compute_intersection(bounding_box, parking_areas)\n",
    "                print(intersections)\n",
    "                max_intersection = np.max(intersections)\n",
    "                # Для отладки параметра IoU\n",
    "                # print(parked_drums_boxes[i])\n",
    "                # print(max_IoU)\n",
    "                if max_intersection > 0.35:\n",
    "                    free_frames = 0\n",
    "                    continue\n",
    "                else:\n",
    "                    free_frames_temp += 1\n",
    "        else:\n",
    "            free_frames += 1\n",
    "            \n",
    "        if free_frames_temp == bounding_boxes.shape[0]:\n",
    "                free_frames += 1\n",
    "\n",
    "        print(f'{time.time() - start_time}')\n",
    "\n",
    "        if free_frames > 100:\n",
    "            break\n",
    "\n",
    "        cv2.imshow('stream', detected_img)\n",
    "        out.write(detected_img)\n",
    "        if cv2.waitKey(1) & 0xFF == ord('q'):\n",
    "            break\n",
    "    \n",
    "    cv2.destroyAllWindows()\n",
    "    out.release()\n",
    "    cap.release()"
   ]
  },
  {
   "cell_type": "code",
   "execution_count": 10,
   "metadata": {},
   "outputs": [
    {
     "name": "stdout",
     "output_type": "stream",
     "text": [
      "Время выполнения: 1.00119\n"
     ]
    }
   ],
   "source": [
    "start_time = time.time()\n",
    "time.sleep(1)\n",
    "finish_time = time.time()\n",
    "print(f\"Время выполнения: {finish_time - start_time:.5f}\")"
   ]
  },
  {
   "cell_type": "code",
   "execution_count": 6,
   "metadata": {},
   "outputs": [],
   "source": [
    "cv2.namedWindow('stream', cv2.WINDOW_NORMAL)\n",
    "\n",
    "cap = cv2.VideoCapture(r'http://192.168.0.39:8080/video')\n",
    "fourcc = cv2.VideoWriter_fourcc(*'mp4v')\n",
    "out = cv2.VideoWriter('output.mp4', fourcc, 20.0, (720,480))\n",
    "\n",
    "while (cap.isOpened()):\n",
    "    ret, frame = cap.read()\n",
    "\n",
    "    if not ret:\n",
    "        break\n",
    "\n",
    "    out.write(frame)\n",
    "\n",
    "    cv2.imshow('stream', frame)\n",
    "    if cv2.waitKey(1) & 0xFF == ord('q'):\n",
    "        cv2.destroyAllWindows()\n",
    "        out.release()\n",
    "        cap.release()\n",
    "        break"
   ]
  },
  {
   "cell_type": "code",
   "execution_count": 15,
   "metadata": {},
   "outputs": [],
   "source": [
    "cap = cv2.VideoCapture(r'http://192.168.0.39:8080/video')\n",
    "cv2.namedWindow('stream', cv2.WINDOW_NORMAL)\n",
    "\n",
    "while cap.isOpened():\n",
    "    ret, frame = cap.read()\n",
    "\n",
    "    cv2.imshow('stream', frame)\n",
    "    if cv2.waitKey(1) & 0xFF == ord('q'):\n",
    "        cv2.destroyAllWindows()\n",
    "        break"
   ]
  },
  {
   "cell_type": "code",
   "execution_count": 3,
   "metadata": {},
   "outputs": [],
   "source": [
    "model_path = r'./yolov8n.onnx'\n",
    "\n",
    "yolov8_detector = YOLOv8(path=model_path,\n",
    "                            conf_thres=0.3,\n",
    "                            iou_thres=0.5)\n",
    "\n",
    "frame = cv2.imread('./photo.jpg')\n",
    "\n",
    "# cv2.imshow('frame', frame)\n",
    "# while (True):\n",
    "#     if cv2.waitKey(1) & 0xFF == ord('q'):\n",
    "#         cv2.destroyAllWindows()\n",
    "#         break\n",
    "\n",
    "yolov8_detector(frame)\n",
    "detected_img = yolov8_detector.draw_detections(frame)\n",
    "\n",
    "cv2.imshow('detected_img', detected_img)\n",
    "while (True):\n",
    "    if cv2.waitKey(1) & 0xFF == ord('q'):\n",
    "        cv2.destroyAllWindows()\n",
    "        break"
   ]
  },
  {
   "cell_type": "code",
   "execution_count": 35,
   "metadata": {},
   "outputs": [],
   "source": [
    "cv2.imshow('frame', frame)\n",
    "while (True):\n",
    "    if cv2.waitKey(1) & 0xFF == ord('q'):\n",
    "        cv2.destroyAllWindows()\n",
    "        break"
   ]
  },
  {
   "cell_type": "markdown",
   "metadata": {},
   "source": [
    "## ------------"
   ]
  },
  {
   "cell_type": "code",
   "execution_count": null,
   "metadata": {},
   "outputs": [],
   "source": [
    "txt = './parking_areas.txt'\n",
    "lines = None\n",
    "with open(txt) as f:\n",
    "    lines = f.readlines()\n",
    "bboxes = []\n",
    "for line in lines:\n",
    "    line = line.replace('\\n', '').split(', ')\n",
    "    bbox = [int(l) for l in line]\n",
    "    bboxes.append(bbox)\n",
    "parking_areas = np.array(bboxes)"
   ]
  },
  {
   "cell_type": "code",
   "execution_count": null,
   "metadata": {},
   "outputs": [],
   "source": [
    "parking_areas = []\n",
    "for zone in zones:\n",
    "    bbox = zone[0].split(' ')[0].split(',')\n",
    "    [bbox.append(elem) for elem in zone[0].split(' ')[2].split(',')]\n",
    "    parking_areas.append(bbox)\n",
    "    # parking_areas = np.append(parking_areas, bbox, axis=0)\n",
    "parking_areas = np.array(parking_areas).astype('int')\n",
    "print(parking_areas)"
   ]
  }
 ],
 "metadata": {
  "kernelspec": {
   "display_name": "Python 3",
   "language": "python",
   "name": "python3"
  },
  "language_info": {
   "codemirror_mode": {
    "name": "ipython",
    "version": 3
   },
   "file_extension": ".py",
   "mimetype": "text/x-python",
   "name": "python",
   "nbconvert_exporter": "python",
   "pygments_lexer": "ipython3",
   "version": "3.10.12"
  }
 },
 "nbformat": 4,
 "nbformat_minor": 2
}
